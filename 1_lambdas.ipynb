{
 "cells": [
  {
   "cell_type": "markdown",
   "metadata": {},
   "source": [
    "### Funções lambda\n",
    "\n",
    "* Criada em uma linha de código\n",
    "* simples\n",
    "* curta\n",
    "* descartável\n",
    "* também conhecidas como expressões lambdas e funções anônimas"
   ]
  },
  {
   "cell_type": "markdown",
   "metadata": {},
   "source": [
    "### Comparativo\n",
    "\n",
    "<table>\n",
    "<tr>\n",
    "    <th>Funções Padrão</th>\n",
    "    <th>Funções lambda</th>\n",
    "</tr>\n",
    "<tr>\n",
    "    <td>reuso de código, utilizada muitas vezes</td>\n",
    "    <td>objetivo é ser usada uma única vez</td>\n",
    "\n",
    "</tr>\n",
    "<tr>\n",
    "    <td>muitas linhas de código</td>\n",
    "    <td>definida em uma linha de código</td>\n",
    "</tr>\n",
    "<tr>\n",
    "    <td>precisam ser nomeadas</td>\n",
    "    <td>podem ser nomeadas ou anônimas</td>\n",
    "</tr>\n",
    "<tr>\n",
    "    <td>podem ter ou não parâmetros</td>\n",
    "    <td>podem ter ou não parâmetros</td>\n",
    "</tr>\n",
    "<tr>\n",
    "    <td>podem ter ou não retorno</td>\n",
    "    <td>podem ter ou não retorno</td>\n",
    "</tr>\n",
    "</table>"
   ]
  },
  {
   "cell_type": "code",
   "execution_count": 1,
   "metadata": {},
   "outputs": [],
   "source": [
    "# Criar uma função padrão para somar dois números\n",
    "\n",
    "def somar (x, y):\n",
    "    return x + y"
   ]
  },
  {
   "cell_type": "code",
   "execution_count": 2,
   "metadata": {},
   "outputs": [
    {
     "data": {
      "text/plain": [
       "30"
      ]
     },
     "execution_count": 2,
     "metadata": {},
     "output_type": "execute_result"
    }
   ],
   "source": [
    "# testando função padrão \n",
    "\n",
    "somar(10, 20)"
   ]
  },
  {
   "cell_type": "code",
   "execution_count": 4,
   "metadata": {},
   "outputs": [],
   "source": [
    "# Criando uma função lambda para somar\n",
    "\n",
    "somar2=lambda x, y: x+y"
   ]
  },
  {
   "cell_type": "code",
   "execution_count": 5,
   "metadata": {},
   "outputs": [
    {
     "data": {
      "text/plain": [
       "30"
      ]
     },
     "execution_count": 5,
     "metadata": {},
     "output_type": "execute_result"
    }
   ],
   "source": [
    "somar2(10,20)"
   ]
  },
  {
   "cell_type": "code",
   "execution_count": 12,
   "metadata": {},
   "outputs": [],
   "source": [
    "multiplicar = lambda x, y: x * y"
   ]
  },
  {
   "cell_type": "code",
   "execution_count": 14,
   "metadata": {},
   "outputs": [
    {
     "data": {
      "text/plain": [
       "10000"
      ]
     },
     "execution_count": 14,
     "metadata": {},
     "output_type": "execute_result"
    }
   ],
   "source": [
    "multiplicar(100,100)"
   ]
  },
  {
   "cell_type": "code",
   "execution_count": 15,
   "metadata": {},
   "outputs": [],
   "source": [
    "somar3 = lambda *args: sum(args)"
   ]
  },
  {
   "cell_type": "code",
   "execution_count": 16,
   "metadata": {},
   "outputs": [
    {
     "data": {
      "text/plain": [
       "10"
      ]
     },
     "execution_count": 16,
     "metadata": {},
     "output_type": "execute_result"
    }
   ],
   "source": [
    "somar3(1,2,3,4)"
   ]
  }
 ],
 "metadata": {
  "kernelspec": {
   "display_name": "base",
   "language": "python",
   "name": "python3"
  },
  "language_info": {
   "codemirror_mode": {
    "name": "ipython",
    "version": 3
   },
   "file_extension": ".py",
   "mimetype": "text/x-python",
   "name": "python",
   "nbconvert_exporter": "python",
   "pygments_lexer": "ipython3",
   "version": "3.11.5"
  }
 },
 "nbformat": 4,
 "nbformat_minor": 2
}
